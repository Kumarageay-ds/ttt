{
  "nbformat": 4,
  "nbformat_minor": 0,
  "metadata": {
    "colab": {
      "provenance": []
    },
    "kernelspec": {
      "name": "python3",
      "display_name": "Python 3"
    },
    "language_info": {
      "name": "python"
    }
  },
  "cells": [
    {
      "cell_type": "markdown",
      "source": [
        "## 1. What is Python, and why is it popular?\n",
        "\n",
        "- Python is a **high-level, interpreted programming language** known for its simplicity and readability.\n",
        "- Created by **Guido van Rossum** in 1991.\n",
        "- Used in web development, data science, automation, artificial intelligence, and more.\n",
        "\n",
        "### 🔥 Why is Python Popular?\n",
        "- ✅ Easy to read and write (English-like syntax)\n",
        "- ✅ Free and open-source\n",
        "- ✅ Large community and extensive libraries\n",
        "- ✅ Cross-platform compatible\n",
        "- ✅ Great for beginners and professionals\n",
        "\n",
        "### ✅ Example:\n",
        "```python\n",
        "print(\"Hello, Python World!\")\n"
      ],
      "metadata": {
        "id": "BQ_gNPxQw_9t"
      }
    },
    {
      "cell_type": "code",
      "source": [
        "print(\"Hello, Python World!\")"
      ],
      "metadata": {
        "colab": {
          "base_uri": "https://localhost:8080/"
        },
        "id": "faAcBLN5xKEQ",
        "outputId": "5aec6818-4736-469e-8f44-11908df374c5"
      },
      "execution_count": 2,
      "outputs": [
        {
          "output_type": "stream",
          "name": "stdout",
          "text": [
            "Hello, Python World!\n"
          ]
        }
      ]
    },
    {
      "cell_type": "markdown",
      "source": [
        "# Q2: What is an interpreter in Python?\n",
        "\n",
        "- An **interpreter** executes Python code **line by line** at runtime.\n",
        "- Python doesn't need to be compiled like other languages (e.g., Java, C++).\n",
        "- Makes testing and debugging easier.\n",
        "\n",
        "### ✅ Example:\n",
        "\n",
        "print(10 + 5)  # Output: 15"
      ],
      "metadata": {
        "id": "tBc1cqyQzilK"
      }
    },
    {
      "cell_type": "code",
      "source": [
        "print(10 + 5)  # Output: 15"
      ],
      "metadata": {
        "colab": {
          "base_uri": "https://localhost:8080/"
        },
        "id": "RPRSnh-3zsly",
        "outputId": "70282e77-fa69-4996-8519-68161b766054"
      },
      "execution_count": 3,
      "outputs": [
        {
          "output_type": "stream",
          "name": "stdout",
          "text": [
            "15\n"
          ]
        }
      ]
    },
    {
      "cell_type": "markdown",
      "source": [
        "# Q3: What are pre-defined keywords in Python?\n",
        "\n",
        "- **Keywords** are reserved words that have special meaning in Python.\n",
        "- Cannot be used as variable names.\n",
        "- They define the syntax and structure of the language.\n",
        "\n",
        "### 🔑 Examples:\n",
        "`if`, `else`, `for`, `while`, `True`, `False`, `def`, `class`, `import`, `None`, etc.\n",
        "\n",
        "### ✅ Example:\n",
        "\n",
        "if True:\n",
        "    print(\"This is a keyword example\")"
      ],
      "metadata": {
        "id": "K8Kn6sODz3Xk"
      }
    },
    {
      "cell_type": "code",
      "source": [
        "if True:\n",
        "    print(\"This is a keyword example\")"
      ],
      "metadata": {
        "colab": {
          "base_uri": "https://localhost:8080/"
        },
        "id": "WMyVnc8Bz7hG",
        "outputId": "ae938747-f078-4d0e-97ff-c766153f0674"
      },
      "execution_count": 4,
      "outputs": [
        {
          "output_type": "stream",
          "name": "stdout",
          "text": [
            "This is a keyword example\n"
          ]
        }
      ]
    },
    {
      "cell_type": "markdown",
      "source": [
        "# Q4: Can keywords be used as variable names?\n",
        "\n",
        "- ❌ No, keywords cannot be used as variable names.\n",
        "- Doing so will cause a **SyntaxError** because they are reserved by Python.\n",
        "\n",
        "### ❌ Incorrect:\n",
        "```python\n",
        "for = 10  # Invalid: 'for' is a keyword\n",
        "```\n",
        "\n",
        "### ✅ Correct:\n",
        "```python\n",
        "number = 10\n",
        "```"
      ],
      "metadata": {
        "id": "9ZCAQpeM0DIp"
      }
    },
    {
      "cell_type": "markdown",
      "source": [
        "# Q5: What is mutability in Python?\n",
        "\n",
        "- **Mutability** refers to whether an object can be changed after creation.\n",
        "\n",
        "| Mutable Types         | Immutable Types          |\n",
        "|------------------------|---------------------------|\n",
        "| List (`[]`)            | Tuple (`()`)              |\n",
        "| Dictionary (`{}`)      | String (`\"\"`)             |\n",
        "| Set (`set()`)          | Integer, Float, Boolean   |\n",
        "\n",
        "### ✅ Example:\n",
        "```python\n",
        "# Mutable\n",
        "my_list = [1, 2, 3]\n",
        "my_list[0] = 100\n",
        "print(my_list)  # [100, 2, 3]\n",
        "\n",
        "# Immutable\n",
        "my_str = \"hello\"\n",
        "# my_str[0] = 'H'  # ❌ Error\n",
        "```"
      ],
      "metadata": {
        "id": "ENUZP4WM0Ug-"
      }
    },
    {
      "cell_type": "code",
      "source": [
        "# Mutable\n",
        "my_list = [1, 2, 3]\n",
        "my_list[0] = 100\n",
        "print(my_list)"
      ],
      "metadata": {
        "colab": {
          "base_uri": "https://localhost:8080/"
        },
        "id": "Y0RQD5DV16OK",
        "outputId": "475f3dee-d26e-4343-a705-be08d47fc3a1"
      },
      "execution_count": 5,
      "outputs": [
        {
          "output_type": "stream",
          "name": "stdout",
          "text": [
            "[100, 2, 3]\n"
          ]
        }
      ]
    },
    {
      "cell_type": "code",
      "source": [
        "# Immutable\n",
        "my_str = \"hello\"\n",
        "# my_str[0] = 'H'  # ❌ Error"
      ],
      "metadata": {
        "id": "-7y2RduK1_DD"
      },
      "execution_count": 8,
      "outputs": []
    },
    {
      "cell_type": "markdown",
      "source": [
        "# Q6: Why are lists mutable, but tuples are immutable?\n",
        "\n",
        "- **Lists** are mutable to allow changes like appending, removing, or modifying elements.\n",
        "- **Tuples** are immutable for performance and safety—useful when data should not change.\n",
        "\n",
        "### ✅ Example:\n",
        "```python\n",
        "my_list = [1, 2, 3]\n",
        "my_list.append(4)  # ✅\n",
        "\n",
        "my_tuple = (1, 2, 3)\n",
        "# my_tuple[0] = 5  # ❌ Error\n",
        "```"
      ],
      "metadata": {
        "id": "Ql1JYe7X0com"
      }
    },
    {
      "cell_type": "markdown",
      "source": [
        "# Q7: What is the difference between '==' and 'is' operators?\n",
        "\n",
        "- `==` checks if **values** are the same.\n",
        "- `is` checks if two variables point to the **same object in memory**.\n",
        "\n",
        "### ✅ Example:\n",
        "```python\n",
        "a = [1, 2]\n",
        "b = [1, 2]\n",
        "print(a == b)   # ✅ True\n",
        "print(a is b)   # ❌ False (different memory locations)\n",
        "\n",
        "c = a\n",
        "print(a is c)   # ✅ True\n",
        "```"
      ],
      "metadata": {
        "id": "JRMx7b2p0fqJ"
      }
    },
    {
      "cell_type": "code",
      "source": [
        "a = [1, 2]\n",
        "b = [1, 2]\n",
        "print(a == b)   # ✅ True\n",
        "print(a is b)   # ❌ False (different memory locations)"
      ],
      "metadata": {
        "colab": {
          "base_uri": "https://localhost:8080/"
        },
        "id": "JKjqPzg_2IAf",
        "outputId": "3ed6c8b3-566b-4bb2-dba0-22c021ad47e4"
      },
      "execution_count": 9,
      "outputs": [
        {
          "output_type": "stream",
          "name": "stdout",
          "text": [
            "True\n",
            "False\n"
          ]
        }
      ]
    },
    {
      "cell_type": "code",
      "source": [
        "c = a\n",
        "print(a is c)   # ✅ True"
      ],
      "metadata": {
        "colab": {
          "base_uri": "https://localhost:8080/"
        },
        "id": "alXxbJGv2K7r",
        "outputId": "6da46ee0-5341-4180-991d-1e0ba0bba5fb"
      },
      "execution_count": 10,
      "outputs": [
        {
          "output_type": "stream",
          "name": "stdout",
          "text": [
            "True\n"
          ]
        }
      ]
    },
    {
      "cell_type": "markdown",
      "source": [
        "# Q8: What are logical operators in Python?\n",
        "\n",
        "- Logical operators are used to combine conditional statements.\n",
        "\n",
        "| Operator | Description                    | Example               |\n",
        "|----------|--------------------------------|------------------------|\n",
        "| `and`    | True if both conditions are true | `x > 2 and x < 10`     |\n",
        "| `or`     | True if at least one is true     | `x < 5 or x == 10`     |\n",
        "| `not`    | Reverses the condition           | `not(x == 5)`          |\n",
        "\n",
        "### ✅ Example:\n",
        "```python\n",
        "x = 5\n",
        "print(x > 2 and x < 10)  # True\n",
        "print(x > 10 or x == 5)  # True\n",
        "print(not(x == 5))       # False\n",
        "```"
      ],
      "metadata": {
        "id": "7imE4xfl02Nx"
      }
    },
    {
      "cell_type": "code",
      "source": [
        "x = 5\n",
        "print(x > 2 and x < 10)  # True\n",
        "print(x > 10 or x == 5)  # True\n",
        "print(not(x == 5))       # False"
      ],
      "metadata": {
        "colab": {
          "base_uri": "https://localhost:8080/"
        },
        "id": "2ndU37Tr2NXh",
        "outputId": "9ca8cf81-fa57-4f72-da6a-5c906ece684f"
      },
      "execution_count": 11,
      "outputs": [
        {
          "output_type": "stream",
          "name": "stdout",
          "text": [
            "True\n",
            "True\n",
            "False\n"
          ]
        }
      ]
    },
    {
      "cell_type": "markdown",
      "source": [
        "# Q9: What is type casting in Python?\n",
        "\n",
        "- **Type casting** means converting a value from one data type to another.\n",
        "\n",
        "### ✅ Example:\n",
        "```python\n",
        "x = \"123\"\n",
        "y = int(x)  # Convert string to integer\n",
        "print(y + 1)  # Output: 124\n",
        "```"
      ],
      "metadata": {
        "id": "Bn1kSDzA05yb"
      }
    },
    {
      "cell_type": "code",
      "source": [
        "x = \"123\"\n",
        "y = int(x)  # Convert string to integer\n",
        "print(y + 1)  # Output: 124"
      ],
      "metadata": {
        "colab": {
          "base_uri": "https://localhost:8080/"
        },
        "id": "7iw-oZ1Y2O17",
        "outputId": "4fd58c94-a7b5-4986-d7f5-5b6b440aa7be"
      },
      "execution_count": 12,
      "outputs": [
        {
          "output_type": "stream",
          "name": "stdout",
          "text": [
            "124\n"
          ]
        }
      ]
    },
    {
      "cell_type": "markdown",
      "source": [
        "# Q10: What is the difference between implicit and explicit type casting?\n",
        "\n",
        "- **Implicit Type Casting**: Python automatically converts the data type.\n",
        "- **Explicit Type Casting**: We manually convert using functions like `int()`, `str()`, etc.\n",
        "\n",
        "### ✅ Example:\n",
        "```python\n",
        "# Implicit\n",
        "a = 5        # int\n",
        "b = 2.0      # float\n",
        "c = a + b    # c becomes 7.0 (float)\n",
        "\n",
        "# Explicit\n",
        "x = \"100\"\n",
        "y = int(x)\n",
        "print(y + 50)  # Output: 150\n",
        "```"
      ],
      "metadata": {
        "id": "xp1sxHqM086h"
      }
    },
    {
      "cell_type": "code",
      "source": [
        "# Implicit\n",
        "a = 5        # int\n",
        "b = 2.0      # float\n",
        "c = a + b    # c becomes 7.0 (float)"
      ],
      "metadata": {
        "id": "vRAWR3ti2QsB"
      },
      "execution_count": 14,
      "outputs": []
    },
    {
      "cell_type": "code",
      "source": [
        "# Explicit\n",
        "x = \"100\"\n",
        "y = int(x)\n",
        "print(y + 50)  # Output: 150"
      ],
      "metadata": {
        "colab": {
          "base_uri": "https://localhost:8080/"
        },
        "id": "Xt0NZMMK2UCp",
        "outputId": "516b7b43-3f64-4452-a65c-bcc718a94bd9"
      },
      "execution_count": 15,
      "outputs": [
        {
          "output_type": "stream",
          "name": "stdout",
          "text": [
            "150\n"
          ]
        }
      ]
    },
    {
      "cell_type": "markdown",
      "source": [
        "# Q11: What is the purpose of conditional statements in Python?\n",
        "\n",
        "- Conditional statements allow the program to **make decisions** based on certain conditions.\n",
        "- Uses `if`, `elif`, `else` blocks to control the flow of code.\n",
        "\n",
        "### ✅ Example:\n",
        "```python\n",
        "age = 18\n",
        "if age >= 18:\n",
        "    print(\"You can vote\")\n",
        "else:\n",
        "    print(\"You are underage\")\n",
        "```"
      ],
      "metadata": {
        "id": "J8Yqi9bA1CzQ"
      }
    },
    {
      "cell_type": "code",
      "source": [
        "age = 18\n",
        "if age >= 18:\n",
        "    print(\"You can vote\")\n",
        "else:\n",
        "    print(\"You are underage\")"
      ],
      "metadata": {
        "colab": {
          "base_uri": "https://localhost:8080/"
        },
        "id": "7Zfix3li2Vx6",
        "outputId": "23fbd53c-8c51-4d79-bfcd-b29a1c0d10b4"
      },
      "execution_count": 16,
      "outputs": [
        {
          "output_type": "stream",
          "name": "stdout",
          "text": [
            "You can vote\n"
          ]
        }
      ]
    },
    {
      "cell_type": "markdown",
      "source": [
        "# Q12: How does the elif statement work?\n",
        "\n",
        "- `elif` stands for **else if**.\n",
        "- It is used to check **multiple conditions** after an `if` statement.\n",
        "\n",
        "### ✅ Example:\n",
        "```python\n",
        "marks = 75\n",
        "\n",
        "if marks >= 90:\n",
        "    print(\"Grade A\")\n",
        "elif marks >= 75:\n",
        "    print(\"Grade B\")\n",
        "elif marks >= 60:\n",
        "    print(\"Grade C\")\n",
        "else:\n",
        "    print(\"Fail\")\n",
        "```"
      ],
      "metadata": {
        "id": "xBZPXwk21KjV"
      }
    },
    {
      "cell_type": "code",
      "source": [
        "marks = 75\n",
        "\n",
        "if marks >= 90:\n",
        "    print(\"Grade A\")\n",
        "elif marks >= 75:\n",
        "    print(\"Grade B\")\n",
        "elif marks >= 60:\n",
        "    print(\"Grade C\")\n",
        "else:\n",
        "    print(\"Fail\")"
      ],
      "metadata": {
        "colab": {
          "base_uri": "https://localhost:8080/"
        },
        "id": "hLX-xgBq2Xt2",
        "outputId": "d9cf1af3-1978-48a4-be29-1e6ae99eba8a"
      },
      "execution_count": 17,
      "outputs": [
        {
          "output_type": "stream",
          "name": "stdout",
          "text": [
            "Grade B\n"
          ]
        }
      ]
    },
    {
      "cell_type": "markdown",
      "source": [
        "# Q13: What is the difference between for and while loops?\n",
        "\n",
        "| Feature        | `for` Loop                     | `while` Loop                   |\n",
        "|----------------|-------------------------------|--------------------------------|\n",
        "| Use Case       | When number of iterations is known | When condition is unknown      |\n",
        "| Structure      | `for i in range(n):`           | `while condition:`             |\n",
        "| Common Usage   | Iterating over lists, ranges   | Waiting for a condition to change |\n",
        "\n",
        "### ✅ Example:\n",
        "```python\n",
        "# For loop\n",
        "for i in range(3):\n",
        "    print(\"For loop:\", i)\n",
        "\n",
        "# While loop\n",
        "count = 0\n",
        "while count < 3:\n",
        "    print(\"While loop:\", count)\n",
        "    count += 1\n",
        "```"
      ],
      "metadata": {
        "id": "YatkoN8N1Oiu"
      }
    },
    {
      "cell_type": "code",
      "source": [
        "# For loop\n",
        "for i in range(3):\n",
        "    print(\"For loop:\", i)"
      ],
      "metadata": {
        "colab": {
          "base_uri": "https://localhost:8080/"
        },
        "id": "MxrJCqaG2aRs",
        "outputId": "f3513e3a-44bc-4913-fdfc-81a923e4ad2a"
      },
      "execution_count": 18,
      "outputs": [
        {
          "output_type": "stream",
          "name": "stdout",
          "text": [
            "For loop: 0\n",
            "For loop: 1\n",
            "For loop: 2\n"
          ]
        }
      ]
    },
    {
      "cell_type": "code",
      "source": [
        "# While loop\n",
        "count = 0\n",
        "while count < 3:\n",
        "    print(\"While loop:\", count)\n",
        "    count += 1"
      ],
      "metadata": {
        "colab": {
          "base_uri": "https://localhost:8080/"
        },
        "id": "CUc8TO2U2eO_",
        "outputId": "506dfddf-8a2a-4eec-c4e2-76a0cddd5508"
      },
      "execution_count": 19,
      "outputs": [
        {
          "output_type": "stream",
          "name": "stdout",
          "text": [
            "While loop: 0\n",
            "While loop: 1\n",
            "While loop: 2\n"
          ]
        }
      ]
    },
    {
      "cell_type": "markdown",
      "source": [
        "# Q14: Describe a scenario where a while loop is more suitable than a for loop.\n",
        "\n",
        "### ✅ Scenario:\n",
        "- When the number of repetitions is **unknown**.\n",
        "- Example: Asking a user for the correct password until it matches.\n",
        "\n",
        "### ✅ Example:\n",
        "```python\n",
        "password = \"\"\n",
        "while password != \"python123\":\n",
        "    password = input(\"Enter password: \")\n",
        "print(\"Access granted!\")\n",
        "```\n",
        ">Reason While suitable for this senario\n",
        ">>You don’t know how many attempts the user will need.\n",
        "\n",
        ">>The loop continues as long as the condition is not met.\n",
        "\n",
        ">>Using a for loop would force you to limit attempts artificially."
      ],
      "metadata": {
        "id": "hgg751AM1T2u"
      }
    },
    {
      "cell_type": "code",
      "source": [
        "password = \"\"\n",
        "while password != \"python123\":\n",
        "    password = input(\"Enter password: \")\n",
        "print(\"Access granted!\")"
      ],
      "metadata": {
        "colab": {
          "base_uri": "https://localhost:8080/"
        },
        "id": "8jkdCfqe2gbl",
        "outputId": "24ec797b-dac4-41fc-baf9-c8629b4af5fa"
      },
      "execution_count": 21,
      "outputs": [
        {
          "output_type": "stream",
          "name": "stdout",
          "text": [
            "Enter password: python123\n",
            "Access granted!\n"
          ]
        }
      ]
    },
    {
      "cell_type": "markdown",
      "source": [
        "**Practical Questions**"
      ],
      "metadata": {
        "id": "gkKkN9NS3K2T"
      }
    },
    {
      "cell_type": "code",
      "source": [
        "#1.  Write a Python program to print \"Hello, World!\"\n",
        "\n",
        "print(\"Hello, World!\")"
      ],
      "metadata": {
        "colab": {
          "base_uri": "https://localhost:8080/"
        },
        "id": "iJ7r4uGt3OkJ",
        "outputId": "5904459a-744f-42b2-b020-8bbe1cf6099e"
      },
      "execution_count": 22,
      "outputs": [
        {
          "output_type": "stream",
          "name": "stdout",
          "text": [
            "Hello, World!\n"
          ]
        }
      ]
    },
    {
      "cell_type": "code",
      "source": [
        "#2 Write a Python program that displays your name and age\n",
        "name=\"Kumar Ageay\"\n",
        "age=27\n",
        "print(f\"My name is {name} and age is {age}\")"
      ],
      "metadata": {
        "colab": {
          "base_uri": "https://localhost:8080/"
        },
        "id": "uFusQebn3UF7",
        "outputId": "c46dd67e-aa1b-4256-c32d-3c37861307b7"
      },
      "execution_count": 24,
      "outputs": [
        {
          "output_type": "stream",
          "name": "stdout",
          "text": [
            "My name is Kumar Ageay and age is 27\n"
          ]
        }
      ]
    },
    {
      "cell_type": "code",
      "source": [
        "#3.  Write code to print all the pre-defined keywords in Python using the keyword library\n",
        "import keyword\n",
        "print(keyword.kwlist)"
      ],
      "metadata": {
        "colab": {
          "base_uri": "https://localhost:8080/"
        },
        "id": "-93C1PMw3guF",
        "outputId": "e653cf55-bfae-4b1f-d9f6-ed9589bc7a58"
      },
      "execution_count": 25,
      "outputs": [
        {
          "output_type": "stream",
          "name": "stdout",
          "text": [
            "['False', 'None', 'True', 'and', 'as', 'assert', 'async', 'await', 'break', 'class', 'continue', 'def', 'del', 'elif', 'else', 'except', 'finally', 'for', 'from', 'global', 'if', 'import', 'in', 'is', 'lambda', 'nonlocal', 'not', 'or', 'pass', 'raise', 'return', 'try', 'while', 'with', 'yield']\n"
          ]
        }
      ]
    },
    {
      "cell_type": "code",
      "source": [
        "#4. Write a program that checks if a given word is a Python keyword.\n",
        "import keyword\n",
        "word = input(\"Enter the word\")\n",
        "list_keywords=keyword.kwlist\n",
        "if word in list_keywords:\n",
        "  print(\"Yes, this is a Keyword\")\n",
        "else:\n",
        "  print(\"Oh no,This is not a keyword\")"
      ],
      "metadata": {
        "colab": {
          "base_uri": "https://localhost:8080/"
        },
        "id": "445kNdK-3jTn",
        "outputId": "e7f668e6-4cd3-4a0c-c66c-27de8da877bd"
      },
      "execution_count": 33,
      "outputs": [
        {
          "output_type": "stream",
          "name": "stdout",
          "text": [
            "Enter the wordNone\n",
            "Yes, this is a Keyword\n"
          ]
        }
      ]
    },
    {
      "cell_type": "code",
      "source": [
        "#5. Create a list and tuple in Python, and demonstrate how attempting to change an element works differently for each.\n",
        "my_lst=[1,2,6,4]#list\n",
        "print(\"original list: \",my_lst)\n",
        "#changing an element in list\n",
        "my_lst[2]=5\n",
        "print(\"list after changing an element :\",my_lst)\n",
        "\n",
        "print()\n",
        "\n",
        "my_tuple=(2,4,3,6,) #tuple\n",
        "print(\"original tuple: \",my_tuple)\n",
        "#changing an element in list\n",
        "\n",
        "#my_tuple[2]=5 # This line causes a TypeError because tuples are immutable\n",
        "#print(\"Tuple after changing an element :\",my_tuple)"
      ],
      "metadata": {
        "colab": {
          "base_uri": "https://localhost:8080/",
          "height": 263
        },
        "id": "OvIRrAu-4H4D",
        "outputId": "f4817cb1-926f-4612-be1b-f5d5653f6806"
      },
      "execution_count": 34,
      "outputs": [
        {
          "output_type": "stream",
          "name": "stdout",
          "text": [
            "original list:  [1, 2, 6, 4]\n",
            "list after changing an element : [1, 2, 5, 4]\n",
            "\n",
            "original tuple:  (2, 4, 3, 6)\n"
          ]
        },
        {
          "output_type": "error",
          "ename": "TypeError",
          "evalue": "'tuple' object does not support item assignment",
          "traceback": [
            "\u001b[0;31m---------------------------------------------------------------------------\u001b[0m",
            "\u001b[0;31mTypeError\u001b[0m                                 Traceback (most recent call last)",
            "\u001b[0;32m/tmp/ipython-input-331069718.py\u001b[0m in \u001b[0;36m<cell line: 0>\u001b[0;34m()\u001b[0m\n\u001b[1;32m     12\u001b[0m \u001b[0;31m#changing an element in list\u001b[0m\u001b[0;34m\u001b[0m\u001b[0;34m\u001b[0m\u001b[0m\n\u001b[1;32m     13\u001b[0m \u001b[0;34m\u001b[0m\u001b[0m\n\u001b[0;32m---> 14\u001b[0;31m \u001b[0mmy_tuple\u001b[0m\u001b[0;34m[\u001b[0m\u001b[0;36m2\u001b[0m\u001b[0;34m]\u001b[0m\u001b[0;34m=\u001b[0m\u001b[0;36m5\u001b[0m\u001b[0;34m\u001b[0m\u001b[0;34m\u001b[0m\u001b[0m\n\u001b[0m\u001b[1;32m     15\u001b[0m \u001b[0mprint\u001b[0m\u001b[0;34m(\u001b[0m\u001b[0;34m\"Tuple after changing an element :\"\u001b[0m\u001b[0;34m,\u001b[0m\u001b[0mmy_tuple\u001b[0m\u001b[0;34m)\u001b[0m\u001b[0;34m\u001b[0m\u001b[0;34m\u001b[0m\u001b[0m\n",
            "\u001b[0;31mTypeError\u001b[0m: 'tuple' object does not support item assignment"
          ]
        }
      ]
    },
    {
      "cell_type": "code",
      "source": [
        "#6. Write a function to demonstrate the behavior of mutable and immutable arguments.\n",
        "def mutable():\n",
        "  my_lst=[1,2,6,4]#list\n",
        "  print(\"original list: \",my_lst)\n",
        "  #changing an element in list\n",
        "  my_lst[2]=5\n",
        "  print(\"list after changing an element :\",my_lst)\n",
        "def immutable():\n",
        "  my_tuple=(2,4,3,6,) #tuple\n",
        "  print(\"original tuple: \",my_tuple)\n",
        "  #changing an element in list\n",
        "  try:\n",
        "    my_tuple[2]=5\n",
        "    print(\"Tuple after changing an element :\",my_tuple)\n",
        "  except:\n",
        "    print(\"Tuple is Immutable\")\n",
        "\n",
        "mutable()\n",
        "immutable()"
      ],
      "metadata": {
        "colab": {
          "base_uri": "https://localhost:8080/"
        },
        "id": "ny63zkw14njA",
        "outputId": "e7e917fb-339c-4e1e-a0ad-55f10db9657b"
      },
      "execution_count": 35,
      "outputs": [
        {
          "output_type": "stream",
          "name": "stdout",
          "text": [
            "original list:  [1, 2, 6, 4]\n",
            "list after changing an element : [1, 2, 5, 4]\n",
            "original tuple:  (2, 4, 3, 6)\n",
            "Tuple is Immutable\n"
          ]
        }
      ]
    },
    {
      "cell_type": "code",
      "source": [
        "#7. Write a program that performs basic arithmetic operations on two user-input numbers.\n",
        "num1=int(input(\"Enter the first number\"))\n",
        "num2=int(input(\"Enter the second number\"))\n",
        "print(\"Addition of two number :\",num1+num2)\n",
        "print(\"Subtraction of two number :\",num1-num2)\n",
        "print(\"Multiplication of two number :\",num1*num2)\n",
        "print(\"Division of two number :\",num1/num2)\n",
        "print(\"modulous of two number :\",num1%num2)\n",
        "print(\"Floor Division of two number :\",num1//num2)\n",
        "print(\"Exponential of two number :\",num1/num2)"
      ],
      "metadata": {
        "colab": {
          "base_uri": "https://localhost:8080/"
        },
        "id": "qqL8_XEx4sfK",
        "outputId": "d86e52d5-8aef-4de8-ee73-fbb8d14f4d1d"
      },
      "execution_count": 37,
      "outputs": [
        {
          "output_type": "stream",
          "name": "stdout",
          "text": [
            "Enter the first number10\n",
            "Enter the second number16\n",
            "Addition of two number : 26\n",
            "Subtraction of two number : -6\n",
            "Multiplication of two number : 160\n",
            "Division of two number : 0.625\n",
            "modulous of two number : 10\n",
            "Floor Division of two number : 0\n",
            "Exponential of two number : 0.625\n"
          ]
        }
      ]
    },
    {
      "cell_type": "code",
      "source": [
        "#8. Write a program to demonstrate the use of logical operators.\n",
        "num1=True\n",
        "num2=False\n",
        "print(\"logical Operator and :\",num1 and num2)\n",
        "print(\"logical Operator or :\",num1 or num2)\n",
        "print(\"logical Operator not :\",not num1 )"
      ],
      "metadata": {
        "colab": {
          "base_uri": "https://localhost:8080/"
        },
        "id": "QVm88IF64504",
        "outputId": "c997c0ab-6c4d-4136-fb5b-2c757fce1a24"
      },
      "execution_count": 38,
      "outputs": [
        {
          "output_type": "stream",
          "name": "stdout",
          "text": [
            "logical Operator and : False\n",
            "logical Operator or : True\n",
            "logical Operator not : False\n"
          ]
        }
      ]
    },
    {
      "cell_type": "code",
      "source": [
        "#9.  Write a Python program to convert user input from string to integer, float, and boolean types.\n",
        "user_input=input(\"Enter the number\")\n",
        "print(\"User_input :\",user_input)\n",
        "if user_input.isdigit():\n",
        "  #String --> integer\n",
        "  print(\"User input in integer:\",int(user_input))\n",
        "  #String --> float\n",
        "  print(\"User input in float:\",float(user_input))\n",
        "  #String --> boolean\n",
        "  print(\"User input in boolean:\",bool(user_input))\n",
        "else:\n",
        "  print(\"Invalid Input , Enter a digit\")"
      ],
      "metadata": {
        "colab": {
          "base_uri": "https://localhost:8080/"
        },
        "id": "eYXLRk_T48YE",
        "outputId": "dbeb3425-622a-4877-c59e-baf0ab641ad4"
      },
      "execution_count": 39,
      "outputs": [
        {
          "output_type": "stream",
          "name": "stdout",
          "text": [
            "Enter the number108\n",
            "User_input : 108\n",
            "User input in integer: 108\n",
            "User input in float: 108.0\n",
            "User input in boolean: True\n"
          ]
        }
      ]
    },
    {
      "cell_type": "code",
      "source": [
        "#10. Write code to demonstrate type casting with list elements.\n",
        "\n",
        "#lst1 consist of float and integer\n",
        "def implicit(lst1):\n",
        "  total_sum=sum(lst1)\n",
        "  print(total_sum)\n",
        "\n",
        "def explicit(lst2):\n",
        "  num=[int(i) for i in lst2]\n",
        "  total_sum2=sum(num)\n",
        "  print(total_sum2)\n",
        "\n",
        "#lst2 consist of string and integer\n",
        "lst1=[1,2,3.3,4.5,6.0]\n",
        "lst2=['1','2','3','4','5']\n",
        "implicit(lst1)\n",
        "explicit(lst2)"
      ],
      "metadata": {
        "colab": {
          "base_uri": "https://localhost:8080/"
        },
        "id": "c9xtOlsw5Cij",
        "outputId": "13cbbad8-3f99-4a74-fdcc-7e0c3980c926"
      },
      "execution_count": 40,
      "outputs": [
        {
          "output_type": "stream",
          "name": "stdout",
          "text": [
            "16.8\n",
            "15\n"
          ]
        }
      ]
    },
    {
      "cell_type": "code",
      "source": [
        "#11.Write a program that checks if a number is positive, negative, or zero.\n",
        "num=int(input(\"Enter the number\"))\n",
        "if num==0:\n",
        "  print(\"It is zero\")\n",
        "elif num>0:\n",
        "  print(\"It is a positive number\")\n",
        "else:\n",
        "  print(\"It is a negative number\")"
      ],
      "metadata": {
        "colab": {
          "base_uri": "https://localhost:8080/"
        },
        "id": "Yxk933zN5Fc6",
        "outputId": "7228f0c4-9823-4a1c-92b1-1f603253c63f"
      },
      "execution_count": 41,
      "outputs": [
        {
          "output_type": "stream",
          "name": "stdout",
          "text": [
            "Enter the number -10\n",
            "It is a negative number\n"
          ]
        }
      ]
    },
    {
      "cell_type": "code",
      "source": [
        "#12. . Write a for loop to print numbers from 1 to 10.\n",
        "for i in range(1,11):\n",
        "  print(i)"
      ],
      "metadata": {
        "colab": {
          "base_uri": "https://localhost:8080/"
        },
        "id": "vJeBjwTI5K4_",
        "outputId": "12c82137-b59f-4577-d631-7382259232bf"
      },
      "execution_count": 42,
      "outputs": [
        {
          "output_type": "stream",
          "name": "stdout",
          "text": [
            "1\n",
            "2\n",
            "3\n",
            "4\n",
            "5\n",
            "6\n",
            "7\n",
            "8\n",
            "9\n",
            "10\n"
          ]
        }
      ]
    },
    {
      "cell_type": "code",
      "source": [
        "#13.  Write a Python program to find the sum of all even numbers between 1 and 50.\n",
        "sum=0\n",
        "for i in range(3,31,2):\n",
        "  sum+=i\n",
        "print(sum)"
      ],
      "metadata": {
        "colab": {
          "base_uri": "https://localhost:8080/"
        },
        "id": "-iGYWJ-M5MoA",
        "outputId": "e8f70aa9-d20c-4372-ae8f-186359c7f1ad"
      },
      "execution_count": 44,
      "outputs": [
        {
          "output_type": "stream",
          "name": "stdout",
          "text": [
            "224\n"
          ]
        }
      ]
    },
    {
      "cell_type": "code",
      "source": [
        "#14. Write a program to reverse a string using a while loop.\n",
        "string=input(\"Enter the string\")\n",
        "i=len(string)-1\n",
        "while i>=0:\n",
        "  print(string[i],end=\"\")\n",
        "  i-=1"
      ],
      "metadata": {
        "colab": {
          "base_uri": "https://localhost:8080/"
        },
        "id": "xA-ewMhA5UgP",
        "outputId": "bf43931f-b72e-4bbe-95ad-74b33f6494b1"
      },
      "execution_count": 45,
      "outputs": [
        {
          "output_type": "stream",
          "name": "stdout",
          "text": [
            "Enter the stringHi PW Team\n",
            "maeT WP iH"
          ]
        }
      ]
    },
    {
      "cell_type": "code",
      "source": [
        "#15.Write a Python program to calculate the factorial of a number provided by the user using a while loop.\n",
        "num=int(input(\"Enter the number :\"))\n",
        "i=2\n",
        "fact=1\n",
        "while i<=num:\n",
        "  fact=fact*i\n",
        "  i+=1\n",
        "print(f\"factorial of {num} is {fact}\")"
      ],
      "metadata": {
        "colab": {
          "base_uri": "https://localhost:8080/"
        },
        "id": "DPqe3GTi5f5u",
        "outputId": "1a068593-b802-430b-e011-2356839caf99"
      },
      "execution_count": 46,
      "outputs": [
        {
          "output_type": "stream",
          "name": "stdout",
          "text": [
            "Enter the number :5\n",
            "factorial of 5 is 120\n"
          ]
        }
      ]
    }
  ]
}